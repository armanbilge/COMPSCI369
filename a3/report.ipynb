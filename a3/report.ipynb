{
 "cells": [
  {
   "cell_type": "markdown",
   "metadata": {},
   "source": [
    "# Introduction\n",
    "\n",
    "This IPython notebook represents my written report and source code for COMPSCI 369 Assignment 3. To generate a PDF version of this report, simply type `rake` at the command line. The generated report can be found at `report.pdf`. Please note that you will need the following software installed.\n",
    "\n",
    "* Graphviz\n",
    "* IPython 3\n",
    "* \\LaTeX\n",
    "* NumPy\n",
    "* pandoc\n",
    "* R\n",
    "* Rake"
   ]
  },
  {
   "cell_type": "code",
   "execution_count": null,
   "metadata": {
    "collapsed": false
   },
   "outputs": [],
   "source": [
    "from IPython.display import display_markdown, display_pdf\n",
    "import itertools as it\n",
    "import numpy as np\n",
    "import subprocess"
   ]
  },
  {
   "cell_type": "markdown",
   "metadata": {},
   "source": [
    "# Question 1"
   ]
  },
  {
   "cell_type": "markdown",
   "metadata": {},
   "source": [
    "Consider the following HMM for secondary structure in protein sequences. The secondary structure at a residue is either an $\\alpha$-helix, $\\beta$-strand, or a loop, represented by the states"
   ]
  },
  {
   "cell_type": "code",
   "execution_count": null,
   "metadata": {
    "collapsed": true
   },
   "outputs": [],
   "source": [
    "STATES = ('H', 'E', 'T')"
   ]
  },
  {
   "cell_type": "markdown",
   "metadata": {},
   "source": [
    "The state transitions for the given HMM for protein secondary structure are described by the following diagram. The initial state for the sequence is distributed uniformly."
   ]
  },
  {
   "cell_type": "code",
   "execution_count": null,
   "metadata": {
    "collapsed": false
   },
   "outputs": [],
   "source": [
    "A = {\n",
    "    'H': {'H': 15/16, 'E': 3/160, 'T': 7/160},\n",
    "    'E': {'H': 1/15, 'E': 5/6, 'T': 1/10},\n",
    "    'T': {'H': 1/8, 'E': 3/4, 'T': 1/8},\n",
    "}\n",
    "\n",
    "edges = ('{} -> {} [label = {:.5g}];'.format(x, y, A[x][y])\n",
    "         for x, y in it.product(STATES, repeat=2))\n",
    "hmm = 'digraph {{{}}}'.format(''.join(edges)).encode()\n",
    "display_pdf(subprocess.check_output(['dot', '-Tpdf'], input=hmm), raw=True)"
   ]
  },
  {
   "cell_type": "markdown",
   "metadata": {},
   "source": [
    "A state may emit a hydrophobic, hydrophilic, or neutral amino acid."
   ]
  },
  {
   "cell_type": "code",
   "execution_count": null,
   "metadata": {
    "collapsed": true
   },
   "outputs": [],
   "source": [
    "EMISSIONS = ('B', 'I', 'N')"
   ]
  },
  {
   "cell_type": "markdown",
   "metadata": {},
   "source": [
    "The emission probabilities for each state are given by the following table."
   ]
  },
  {
   "cell_type": "code",
   "execution_count": null,
   "metadata": {
    "collapsed": false
   },
   "outputs": [],
   "source": [
    "E = {\n",
    "    'H': {'B': 0.3, 'I': 0.5, 'N': 0.2},\n",
    "    'E': {'B': 0.15, 'I': 0.55, 'N': 0.3},\n",
    "    'T': {'B': 0.4, 'I': 0.1, 'N': 0.5},\n",
    "}"
   ]
  },
  {
   "cell_type": "markdown",
   "metadata": {},
   "source": [
    "|       |**B**|**I**|**N**|\n",
    "|:-----:|:---:|:---:|:---:|\n",
    "| **H** | 0.3 | 0.5 | 0.2 |\n",
    "| **E** | 0.15| 0.55| 0.3 |\n",
    "| **T** | 0.4 | 0.1 | 0.5 |"
   ]
  },
  {
   "cell_type": "markdown",
   "metadata": {},
   "source": [
    "Here, we simulate a sequence of length 200 under the HMM."
   ]
  },
  {
   "cell_type": "code",
   "execution_count": null,
   "metadata": {
    "collapsed": false
   },
   "outputs": [],
   "source": [
    "def d2l(d, K):\n",
    "    return [d[k] for k in K]\n",
    "\n",
    "def simulate_hmm(length):\n",
    "    states = []\n",
    "    symbols = []\n",
    "    if length > 0:\n",
    "        states.append(np.random.choice(STATES))\n",
    "        symbols.append(np.random.choice(EMISSIONS, p=d2l(E[states[-1]], EMISSIONS)))\n",
    "        for _ in range(1, length):\n",
    "            states.append(np.random.choice(STATES, p=d2l(A[states[-1]], STATES)))\n",
    "            symbols.append(np.random.choice(EMISSIONS, p=d2l(E[states[-1]], EMISSIONS)))\n",
    "    return states, symbols\n",
    "\n",
    "states, symbols = simulate_hmm(200)\n",
    "print('\\n'.join(','.join(s) for s in np.array_split(states, 5)))\n",
    "print()\n",
    "print('\\n'.join(','.join(s) for s in np.array_split(symbols, 5)))"
   ]
  },
  {
   "cell_type": "markdown",
   "metadata": {},
   "source": [
    "Then we calculate the logarithm of the joint probability $\\log\\left(P\\left(x,\\pi\\right)\\right)$ of this sequence."
   ]
  },
  {
   "cell_type": "code",
   "execution_count": null,
   "metadata": {
    "collapsed": true
   },
   "outputs": [],
   "source": [
    "def joint_logp(states, symbols):\n",
    "    logp = 0\n",
    "    if len(states) > 0:\n",
    "        logp -= np.log2(len(STATES))\n",
    "        logp += np.log2(E[states[0]][symbols[0]])\n",
    "        for i in range(1, len(states)):\n",
    "            logp += np.log2(A[states[i-1]][states[i]])\n",
    "            logp += np.log2(E[states[i]][symbols[i]])\n",
    "    return logp\n",
    "\n",
    "joint_logp(states, symbols)"
   ]
  },
  {
   "cell_type": "markdown",
   "metadata": {},
   "source": [
    "Given that\n",
    "$$\\pi = H,H,H,H,H,T,T,E,E,E,H,H,H,H,H,H,E,E,E,E,E,E$$\n",
    "$$x = N,I,N,B,N,I,I,B,N,I,B,B,I,N,B,I,I,N,B,B,N,B$$\n",
    "then $\\log\\left(P\\left(x,\\pi\\right)\\right)$ is"
   ]
  },
  {
   "cell_type": "code",
   "execution_count": null,
   "metadata": {
    "collapsed": true
   },
   "outputs": [],
   "source": [
    "pi = ['H','H','H','H','H','T','T','E','E','E','H','H','H','H','H','H','E','E','E','E','E','E']\n",
    "x = ['N','I','N','B','N','I','I','B','N','I','B','B','I','N','B','I','I','N','B','B','N','B']\n",
    "joint_logp(pi, x)"
   ]
  },
  {
   "cell_type": "markdown",
   "metadata": {},
   "source": [
    "The log probability of the simulated symbols is given by the forward algorithm. "
   ]
  },
  {
   "cell_type": "code",
   "execution_count": null,
   "metadata": {
    "collapsed": true
   },
   "outputs": [],
   "source": [
    "def log2sum(x):\n",
    "    return x[0] + np.log2(np.sum(np.pow(2, x - x[0])))\n",
    "\n",
    "def forward(x):\n",
    "    logp = np.array([0] * len(STATES))\n",
    "    if len(x) > 0:\n",
    "        for i, s in enumerate(STATES):\n",
    "            logp[i] = np.log2(E[s][x[0]])\n",
    "        \n",
    "    return log2sum(logp) - np.log2(len(STATES))"
   ]
  },
  {
   "cell_type": "markdown",
   "metadata": {},
   "source": [
    "\n",
    "# Question 2"
   ]
  },
  {
   "cell_type": "code",
   "execution_count": null,
   "metadata": {
    "collapsed": true
   },
   "outputs": [],
   "source": []
  }
 ],
 "metadata": {
  "kernelspec": {
   "display_name": "Python 3",
   "language": "python",
   "name": "python3"
  },
  "language_info": {
   "codemirror_mode": {
    "name": "ipython",
    "version": 3
   },
   "file_extension": ".py",
   "mimetype": "text/x-python",
   "name": "python",
   "nbconvert_exporter": "python",
   "pygments_lexer": "ipython3",
   "version": "3.4.3"
  }
 },
 "nbformat": 4,
 "nbformat_minor": 0
}
