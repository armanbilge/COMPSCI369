{
 "cells": [
  {
   "cell_type": "markdown",
   "metadata": {},
   "source": [
    "# Introduction\n",
    "\n",
    "This IPython notebook represents my written report and source code for COMPSCI 369 Assignment 3. To generate a PDF version of this report, simply type `rake` at the command line. The generated report can be found at `report.pdf`. Please note that you will need the following software installed.\n",
    "\n",
    "* Graphviz\n",
    "* IPython 3\n",
    "* \\LaTeX\n",
    "* pandoc\n",
    "* Rake"
   ]
  },
  {
   "cell_type": "code",
   "execution_count": null,
   "metadata": {
    "collapsed": false
   },
   "outputs": [],
   "source": [
    "from IPython.display import SVG\n",
    "import itertools as it\n",
    "import math\n",
    "import random\n",
    "import subprocess"
   ]
  },
  {
   "cell_type": "markdown",
   "metadata": {},
   "source": [
    "# Question 1"
   ]
  },
  {
   "cell_type": "code",
   "execution_count": null,
   "metadata": {
    "collapsed": false
   },
   "outputs": [],
   "source": [
    "hmm = b'''\\\n",
    "digraph {\n",
    "    H -> H [label = 0.9375];\n",
    "    E -> E [label = 0.83333];\n",
    "    T -> T [label = 0.75];\n",
    "    H -> E [label = 0.01875];\n",
    "    H -> T [label = 0.04375];\n",
    "    E -> H [label = 0.06666];\n",
    "    E -> T [label = 0.1];\n",
    "    T -> H [label = 0.125];\n",
    "    T -> E [label = 0.125];\n",
    "}\n",
    "'''\n",
    "SVG(subprocess.check_output(['dot', '-Tsvg'], input=hmm))"
   ]
  },
  {
   "cell_type": "markdown",
   "metadata": {},
   "source": [
    "|       |**H**|**E**|**T**|\n",
    "|:-----:|:---:|:---:|:---:|\n",
    "| **B** | 0.3 | 0.15| 0.4 |\n",
    "| **I** | 0.5 | 0.55| 0.1 |\n",
    "| **N** | 0.2 | 0.3 | 0.5 |"
   ]
  }
 ],
 "metadata": {
  "kernelspec": {
   "display_name": "Python 3",
   "language": "python",
   "name": "python3"
  },
  "language_info": {
   "codemirror_mode": {
    "name": "ipython",
    "version": 3
   },
   "file_extension": ".py",
   "mimetype": "text/x-python",
   "name": "python",
   "nbconvert_exporter": "python",
   "pygments_lexer": "ipython3",
   "version": "3.4.3"
  }
 },
 "nbformat": 4,
 "nbformat_minor": 0
}
