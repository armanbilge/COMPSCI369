{
 "cells": [
  {
   "cell_type": "markdown",
   "metadata": {},
   "source": [
    "# Introduction\n",
    "\n",
    "This IPython notebook represents my written report and source code for COMPSCI 369 Assignment 2. To generate a PDF version of this report, simply type `rake` at the command line. The generated report can be found at `report.pdf`. Please note that you will need the following software installed.\n",
    "\n",
    "* IPython 3\n",
    "* \\LaTeX\n",
    "* pandoc\n",
    "* Rake"
   ]
  },
  {
   "cell_type": "code",
   "execution_count": null,
   "metadata": {
    "collapsed": true
   },
   "outputs": [],
   "source": [
    "import itertools as it\n",
    "import math\n",
    "import random\n",
    "\n",
    "BASES = ['A', 'C', 'G', 'T']\n",
    "GAP = '-'"
   ]
  },
  {
   "cell_type": "markdown",
   "metadata": {},
   "source": [
    "# Drawing from probability distributions"
   ]
  },
  {
   "cell_type": "markdown",
   "metadata": {},
   "source": [
    "We can sample an integer uniformly at random from $\\left\\{0,1,\\ldots,n-1\\right\\}$ by drawing $u$ uniformly at random from the interval $\\left[0, 1\\right)$ and transforming it by $$T\\left(u\\right) = \\lfloor nu \\rfloor.$$"
   ]
  },
  {
   "cell_type": "code",
   "execution_count": null,
   "metadata": {
    "collapsed": true
   },
   "outputs": [],
   "source": [
    "def random_int(i, n=1):\n",
    "    if n > 1:\n",
    "        return [math.floor(random.random() * i) for _ in range(n)]\n",
    "    else:\n",
    "        return math.floor(random.random() * i)"
   ]
  },
  {
   "cell_type": "markdown",
   "metadata": {},
   "source": [
    "We can sample from a collection uniformly at random by drawing a random index and selecting the element associated with that index."
   ]
  },
  {
   "cell_type": "code",
   "execution_count": null,
   "metadata": {
    "collapsed": true
   },
   "outputs": [],
   "source": [
    "def random_choice(X, n=1):\n",
    "    if n > 1:\n",
    "        return [X[i] for i in random_int(len(X), n)]\n",
    "    else:\n",
    "        return X[random_int(len(X))]"
   ]
  },
  {
   "cell_type": "markdown",
   "metadata": {},
   "source": [
    "We can sample from the exponential distribution with rate $\\lambda$ by drawing $u$ uniformly at random from the interval $\\left[0, 1\\right)$ and transforming it by $$F^{-1}\\left(u\\right) = -\\frac{\\ln{\\left(1 - u\\right)}}{\\lambda},$$ where $F\\left(x\\right)$ is the cumulative distribution function of the exponential distribution."
   ]
  },
  {
   "cell_type": "code",
   "execution_count": null,
   "metadata": {
    "collapsed": true
   },
   "outputs": [],
   "source": [
    "def random_exponential(lambd):\n",
    "    return - math.log(1 - random.random()) / lambd"
   ]
  },
  {
   "cell_type": "markdown",
   "metadata": {},
   "source": [
    "It is straightforward to simulate event times of a Poisson process with rate $\\lambda$ by keeping a running sum of waiting times sampled from an exponential distribution with rate $\\lambda$."
   ]
  },
  {
   "cell_type": "code",
   "execution_count": null,
   "metadata": {
    "collapsed": true
   },
   "outputs": [],
   "source": [
    "def waiting_times(lambd):\n",
    "    while True: yield random_exponential(lambd)\n",
    "\n",
    "def poisson_process(lambd):\n",
    "    return it.accumulate(waiting_times(lambd))"
   ]
  },
  {
   "cell_type": "markdown",
   "metadata": {},
   "source": [
    "We can sample from the Poisson distribution with parameter $\\lambda$ by simulating a Poisson process with rate $\\lambda$ for 1 time unit and counting the number of events."
   ]
  },
  {
   "cell_type": "code",
   "execution_count": null,
   "metadata": {
    "collapsed": true
   },
   "outputs": [],
   "source": [
    "def random_poisson(lambd):\n",
    "    return sum(1 for _ in it.takewhile(lambda x: x < 1, poisson_process(lambd)))"
   ]
  },
  {
   "cell_type": "markdown",
   "metadata": {},
   "source": [
    "# Question 1"
   ]
  },
  {
   "cell_type": "markdown",
   "metadata": {},
   "source": [
    "We draw $L$ bases from the discrete uniform distribution on $\\{A, C, G, T\\}$ to get the ancestral sequence."
   ]
  },
  {
   "cell_type": "code",
   "execution_count": null,
   "metadata": {
    "collapsed": false
   },
   "outputs": [],
   "source": [
    "def random_sequence(L):\n",
    "    return ''.join(random_choice(BASES, L))"
   ]
  },
  {
   "cell_type": "markdown",
   "metadata": {},
   "source": [
    "To simulate the evolution of a sequence $S$ with per-site mutation rate $\\mu$, let $\\lambda = L\\frac{3}{4}\\mu$ be the rate of observable  mutations (i.e., base $x$ to $y$ where $x \\neq y$) across the entire sequence. We draw the number of mutations over time $t$ from a Poisson distribution with parameter $t \\lambda$. For each mutation, we select the affected site uniformly at random and change it to one of the three other bases, selected uniformly at random."
   ]
  },
  {
   "cell_type": "code",
   "execution_count": null,
   "metadata": {
    "collapsed": true
   },
   "outputs": [],
   "source": [
    "def evolve_sequence(S, mu, t):\n",
    "    S = list(S) # Strings are immutable so use list of chars\n",
    "    L = len(S)\n",
    "    lambd = L * 3/4 * mu\n",
    "    for _ in range(random_poisson(t * lambd)):\n",
    "        i = random_int(L)\n",
    "        S[i] = random_choice([b for b in BASES if b != S[i]])\n",
    "    return ''.join(S) # Back to string"
   ]
  },
  {
   "cell_type": "markdown",
   "metadata": {},
   "source": [
    "Finally, to simulate a pair of \"sibling\" sequences that have diverged from a common ancestor $t$ time units ago, first we draw an ancestral sequence $A$ and then simulate two independent evolutionary processes starting with $A$ and generating $B$ and $C$."
   ]
  },
  {
   "cell_type": "code",
   "execution_count": null,
   "metadata": {
    "collapsed": false
   },
   "outputs": [],
   "source": [
    "def simulate_siblings(L, mu, t):\n",
    "    A = random_sequence(L)\n",
    "    B = evolve_sequence(A, mu, t)\n",
    "    C = evolve_sequence(A, mu, t)\n",
    "    return A, B, C"
   ]
  },
  {
   "cell_type": "markdown",
   "metadata": {},
   "source": [
    "Here, we simulate a pair of sequences with length $L = 50$ and mutation rate $\\mu = 0.01$ for $t = 10$ time units."
   ]
  },
  {
   "cell_type": "code",
   "execution_count": null,
   "metadata": {
    "collapsed": false
   },
   "outputs": [],
   "source": [
    "L = 50\n",
    "mu = 0.01\n",
    "t = 10\n",
    "A, B, C = simulate_siblings(L, mu, t)"
   ]
  },
  {
   "cell_type": "raw",
   "metadata": {},
   "source": [
    "The ancestral sequence is"
   ]
  },
  {
   "cell_type": "code",
   "execution_count": null,
   "metadata": {
    "collapsed": false
   },
   "outputs": [],
   "source": [
    "A"
   ]
  },
  {
   "cell_type": "markdown",
   "metadata": {},
   "source": [
    "The sequence for the first child is"
   ]
  },
  {
   "cell_type": "code",
   "execution_count": null,
   "metadata": {
    "collapsed": false
   },
   "outputs": [],
   "source": [
    "B"
   ]
  },
  {
   "cell_type": "markdown",
   "metadata": {},
   "source": [
    "and the sequence for the second child is"
   ]
  },
  {
   "cell_type": "code",
   "execution_count": null,
   "metadata": {
    "collapsed": false
   },
   "outputs": [],
   "source": [
    "C"
   ]
  },
  {
   "cell_type": "markdown",
   "metadata": {},
   "source": [
    "The number of differences between the ancestor and child 1, the ancestor and child 2, and children 1 and 2 are, respectively,"
   ]
  },
  {
   "cell_type": "code",
   "execution_count": null,
   "metadata": {
    "collapsed": false
   },
   "outputs": [],
   "source": [
    "def count_differences(A, B):\n",
    "    return sum(1 for x, y in zip(A, B) if x != y)\n",
    "count_differences(A, B), count_differences(A, C), count_differences(B, C)"
   ]
  },
  {
   "cell_type": "markdown",
   "metadata": {},
   "source": [
    "The mean, or expected value, of the Poisson distribution is equal to its parameter. Furthermore, the sum of independent Poisson variables is also Poisson distributed by the sum of their parameters. Therefore, the expected number of mutations for a single evolutionary process is $t\\lambda = tL\\frac{3}{4}\\mu$ and the expected number of mutations between two sibling sequences is $2tL\\frac{3}{4}\\mu$."
   ]
  },
  {
   "cell_type": "markdown",
   "metadata": {},
   "source": [
    "Here, we simulate $n = 1000$ pairs of sequences with length $L = 1000$ and mutation rate $\\mu = 0.01$ for $t = 25$ time units and count the number of sites at which they differ."
   ]
  },
  {
   "cell_type": "code",
   "execution_count": null,
   "metadata": {
    "collapsed": true
   },
   "outputs": [],
   "source": [
    "n = 1000\n",
    "L = 1000\n",
    "mu = 0.01\n",
    "t = 25\n",
    "mean = 0\n",
    "var = 0\n",
    "for i in range(n):\n",
    "    _, B, C = simulate_siblings(L, mu, t)\n",
    "    d = count_differences(B, C)\n",
    "    mean += d\n",
    "    var += d * d\n",
    "mean /= n\n",
    "var /= n\n",
    "var -= mean * mean"
   ]
  },
  {
   "cell_type": "markdown",
   "metadata": {},
   "source": [
    "The mean number of differing sites is"
   ]
  },
  {
   "cell_type": "code",
   "execution_count": null,
   "metadata": {
    "collapsed": false
   },
   "outputs": [],
   "source": [
    "mean"
   ]
  },
  {
   "cell_type": "markdown",
   "metadata": {},
   "source": [
    "and its variance is"
   ]
  },
  {
   "cell_type": "code",
   "execution_count": null,
   "metadata": {
    "collapsed": false
   },
   "outputs": [],
   "source": [
    "var"
   ]
  },
  {
   "cell_type": "markdown",
   "metadata": {},
   "source": [
    "Although the number of mutations is Poisson distributed with parameter $2tL\\frac{3}{4}\\mu$, the number of differing sites is not. The number of mutations is not equivalent to the number of differing sites because more than one mutation can occur at a single site."
   ]
  },
  {
   "cell_type": "markdown",
   "metadata": {},
   "source": [
    "Here, we simulate a pair of sibling sequences $B$ and $C$ with length $L = 10000$ and mutation rate $\\mu = 0.03$ for $t = 10$ time units. For this simulation, assuming that $p_{ab} = p_{ba}$, the empirical probabilities $p_{ab}$ are given by\n",
    "$$p_{ab} = \\frac{1}{2}\\left(\\frac{\\left\\vert{\\left\\{i \\in \\left\\{1,\\ldots,L\\right\\} \\mid B_i = a \\land C_i = b \\right\\}}\\right\\vert}{\\left\\vert{\\left\\{i \\in \\left\\{1,\\ldots,L\\right\\} \\mid B_i = a\\right\\}}\\right\\vert} + \\frac{\\left\\vert{\\left\\{i \\in \\left\\{1,\\ldots,L\\right\\} \\mid B_i = b \\land C_i = a \\right\\}}\\right\\vert}{\\left\\vert{\\left\\{i \\in \\left\\{1,\\ldots,L\\right\\} \\mid B_i = b\\right\\}}\\right\\vert}\\right)$$\n",
    "and the theoretical by\n",
    "$$p_{ab} = \\begin{cases}\\frac{1}{4} + \\frac{3}{4}\\exp{\\left(-2t\\mu\\right)} &\\text{if } a = b \\\\ \\frac{1}{4} - \\frac{1}{4}\\exp{\\left(-2t\\mu\\right)} &\\text{if } a \\neq b \\end{cases}.$$"
   ]
  },
  {
   "cell_type": "code",
   "execution_count": null,
   "metadata": {
    "collapsed": true
   },
   "outputs": [],
   "source": [
    "L = 10000\n",
    "mu = 0.03\n",
    "t = 10\n",
    "_, B, C = simulate_siblings(L, mu, t)\n",
    "empirical_p = {}\n",
    "theoretical_p = {}\n",
    "for a,b in it.product(BASES, repeat=2):\n",
    "    empirical_p[(a,b)] = (sum(1 for x,y in zip(B,C) if (x,y) == (a,b)) / B.count(a)\n",
    "                          + sum(1 for x,y in zip(B,C) if (x,y) == (b,a)) / B.count(b)) / 2\n",
    "    theoretical_p[(a,b)] = 1/4 + (3/4 if a == b else -1/4) * math.exp(-2 * t * mu)"
   ]
  },
  {
   "cell_type": "markdown",
   "metadata": {},
   "source": [
    "The empirical $p_{ab}$ values are"
   ]
  },
  {
   "cell_type": "code",
   "execution_count": null,
   "metadata": {
    "collapsed": false
   },
   "outputs": [],
   "source": [
    "empirical_p"
   ]
  },
  {
   "cell_type": "markdown",
   "metadata": {},
   "source": [
    "The theoretical $p_{ab}$ values are"
   ]
  },
  {
   "cell_type": "code",
   "execution_count": null,
   "metadata": {
    "collapsed": false
   },
   "outputs": [],
   "source": [
    "theoretical_p"
   ]
  },
  {
   "cell_type": "markdown",
   "metadata": {},
   "source": [
    "# Question 2"
   ]
  },
  {
   "cell_type": "markdown",
   "metadata": {},
   "source": [
    "Consider the described insertion-deletion (indel) model. Let $\\lambda = \\mu + 2\\nu$ be the total rate of mutations, insertions and deletions at a single site. Then the total combined rate of mutations, insertions and deletions in a sequence of length $L$ is $L\\lambda$. If an insertion of length $k$ occurs at some time $T$, the total combined rate of mutations, insertions and deletions is $L\\lambda$ immediately before $T$ and is $\\left(L+k\\right)\\lambda$ immediately after $T$. Therefore the total number of events on the tree is no longer Poisson distributed because the event rate is not constant through time."
   ]
  },
  {
   "cell_type": "markdown",
   "metadata": {},
   "source": [
    "The following method extends the previous method `simulate_siblings()` by simulating the simplififed indel process."
   ]
  },
  {
   "cell_type": "code",
   "execution_count": null,
   "metadata": {
    "collapsed": true
   },
   "outputs": [],
   "source": [
    "def simulate_siblings_indel(L, mu, t):\n",
    "    A, B, C = map(list, simulate_siblings(L, mu, t))\n",
    "    for X,Y in it.permutations([B, C]):\n",
    "        lambd = L * t * mu / 10\n",
    "        h_I = random_poisson(lambd)\n",
    "        h_D = random_poisson(lambd)\n",
    "        for _ in range(h_I):\n",
    "            i = random_int(len(X) + 1)\n",
    "            # Gaps for ancestor\n",
    "            A[i:i] = [GAP] * 3\n",
    "            # Insertion\n",
    "            X[i:i] = list(random_sequence(3))\n",
    "            # Gaps for sibling\n",
    "            Y[i:i] = [GAP] * 3\n",
    "        for _ in range(h_D):\n",
    "            # Create map of non-gap indices to gap indices\n",
    "            m = [i for i, x in enumerate(X) if x != GAP] + [len(X)]\n",
    "            # Choose i from non-gap sites and map to gap index\n",
    "            i = random_choice(m)\n",
    "            j = min(i+3, len(X))\n",
    "            # Gaps representing deletion\n",
    "            X[i:j] = [GAP] * (j - i)\n",
    "    # Remove sites that are all gaps\n",
    "    A, B, C = map(list, zip(*((a,b,c) for a,b,c in zip(A,B,C) if not a == b == c == GAP)))\n",
    "    A, B, C = map(''.join, [A, B, C])\n",
    "    return A, B, C"
   ]
  },
  {
   "cell_type": "markdown",
   "metadata": {},
   "source": [
    "Here, we simulate a pair of sibling sequences $B$ and $C$ descended from a common ancestor with sequence length $L = 50$ under mutation rate $\\mu = 0.01$ for $t = 20$ time units."
   ]
  },
  {
   "cell_type": "code",
   "execution_count": null,
   "metadata": {
    "collapsed": false
   },
   "outputs": [],
   "source": [
    "L = 50\n",
    "mu = 0.01\n",
    "t = 20\n",
    "_, B, C = simulate_siblings_indel(L, mu, t)\n",
    "print(B)\n",
    "print(C)"
   ]
  },
  {
   "cell_type": "markdown",
   "metadata": {},
   "source": [
    "# Question 3"
   ]
  },
  {
   "cell_type": "markdown",
   "metadata": {},
   "source": [
    "Some simple modifications to the global alignment algorithm make it an overlap alignment algorithm. Specifically, (1) the $F$ matrix is intially all zeros, (2) the backtrack starts from the best-scoring entry in the lower-right boundary of the $F$ matrix, and (3) the backtrack ends when anywhere in the upper-left boundary of the $F$ matrix. Otherwise, the global recurrence relation is still used for populating the $F$ matrix."
   ]
  },
  {
   "cell_type": "code",
   "execution_count": null,
   "metadata": {
    "collapsed": true
   },
   "outputs": [],
   "source": [
    "def align_overlap(A, B, S, d):\n",
    "    \n",
    "    # Initialise F matrix with zeros\n",
    "    F = [[0] * (len(B)+1) for _ in range(len(A)+1)]\n",
    "    \n",
    "    # Fill F matrix by global recurrence relation\n",
    "    for i in range(len(A)):\n",
    "        for j in range(len(B)):\n",
    "            match = F[i][j] + S[A[i]][B[j]]\n",
    "            delete = F[i][j+1] + d\n",
    "            insert = F[i+1][j] + d\n",
    "            F[i+1][j+1] = max(match, delete, insert)\n",
    "    \n",
    "    # Iterator over boundary indices\n",
    "    boundary = it.chain(((i,len(B)-1) for i in range(len(A))),\n",
    "                        ((len(A)-1,j) for j in range(len(B))))\n",
    "    \n",
    "    # Find index for boundary entry with greatest score\n",
    "    i, j = max(boundary, key=lambda ij: F[ij[0]][ij[1]])\n",
    "    \n",
    "    # Append non-overlapping sequence or gaps\n",
    "    alignment_A = A[i+1:] if i+1 < len(A) else '-' * (len(B) - j - 1)\n",
    "    alignment_B = B[j+1:] if j+1 < len(B) else '-' * (len(A) - i - 1)\n",
    "    \n",
    "    # Backtrack to form alignment for overlapping region\n",
    "    while i >= 0 and j >= 0:\n",
    "        if i >= 0 and j >= 0 and F[i+1][j+1] == F[i][j] + S[A[i]][B[j]]:\n",
    "            alignment_A = A[i] + alignment_A\n",
    "            alignment_B = B[j] + alignment_B\n",
    "            i -= 1\n",
    "            j -= 1\n",
    "        elif i >= 0 and F[i+1][j+1] == F[i][j+1] + d:\n",
    "            alignment_A = A[i] + alignment_A\n",
    "            alignment_B = GAP + alignment_B\n",
    "            i -= 1\n",
    "        else: # j >= 0 and F[i+1][j+1] == F[i+1][j] + d\n",
    "            alignment_A = GAP + alignment_A\n",
    "            alignment_B = B[j] + alignment_B\n",
    "            j -= 1\n",
    "    \n",
    "    # Append non-overlapping sequence or gaps\n",
    "    alignment_A = (A[:i] if i > 0 else '-' * j) + alignment_A\n",
    "    alignment_B = (B[:j] if j > 0 else '-' * i) + alignment_B\n",
    "    \n",
    "    return alignment_A, alignment_B"
   ]
  },
  {
   "cell_type": "markdown",
   "metadata": {},
   "source": [
    "Here, we align the first 35 bases of B to the last 35 bases of C (as previously simulated under the indel process) using the score matrix\n",
    "$$S_{xy} = \\begin{cases} 2 &\\text{if } x = y \\\\ -2 &\\text{if } x \\neq y\\end{cases}$$ and the gap penalty $d = -3$."
   ]
  },
  {
   "cell_type": "code",
   "execution_count": null,
   "metadata": {
    "collapsed": true
   },
   "outputs": [],
   "source": [
    "S = {x: {y: 2 if x == y else -2 for y in BASES} for x in BASES}\n",
    "d = -3\n",
    "Bp = B.replace(GAP, '')[:35]\n",
    "Cp = C.replace(GAP, '')[-35:]\n",
    "alignment_B, alignment_C = align_overlap(Bp, Cp, S, d)\n",
    "print(alignment_B)\n",
    "print(alignment_C)"
   ]
  },
  {
   "cell_type": "markdown",
   "metadata": {},
   "source": [
    "Consider the same alignment with various gap penalties $d \\in \\left\\{-4,-3,-2,-1\\right\\}$."
   ]
  },
  {
   "cell_type": "code",
   "execution_count": null,
   "metadata": {
    "collapsed": false
   },
   "outputs": [],
   "source": [
    "for d in range(-4, 0):\n",
    "    alignment_B, alignment_C = align_overlap(Bp, Cp, S, d)\n",
    "    print('d = {}'.format(d))\n",
    "    print(alignment_B)\n",
    "    print(alignment_C)\n",
    "    print()"
   ]
  },
  {
   "cell_type": "markdown",
   "metadata": {},
   "source": [
    "The gap penalty $d = -3$ tends to give good results across various simulated datasets because it is able to identify the overlapping region despite indels without overcompensating for mutations by inserting several superficial gaps."
   ]
  }
 ],
 "metadata": {
  "kernelspec": {
   "display_name": "Python 3",
   "language": "python",
   "name": "python3"
  },
  "language_info": {
   "codemirror_mode": {
    "name": "ipython",
    "version": 3
   },
   "file_extension": ".py",
   "mimetype": "text/x-python",
   "name": "python",
   "nbconvert_exporter": "python",
   "pygments_lexer": "ipython3",
   "version": "3.4.3"
  }
 },
 "nbformat": 4,
 "nbformat_minor": 0
}
