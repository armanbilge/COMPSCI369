{
 "cells": [
  {
   "cell_type": "markdown",
   "metadata": {},
   "source": [
    "% COMPSCI 369 Assignment 2\n",
    "% Arman Bilge (`abil933`\\; 8079403)\n",
    "% Thursday 14 May"
   ]
  },
  {
   "cell_type": "code",
   "execution_count": 1,
   "metadata": {
    "collapsed": false
   },
   "outputs": [],
   "source": [
    "import random\n",
    "BASES = ['A', 'C', 'G', 'T']\n",
    "n = 50\n",
    "mu = 0.01\n",
    "t = 10"
   ]
  },
  {
   "cell_type": "markdown",
   "metadata": {},
   "source": [
    "The ancestral sequence is"
   ]
  },
  {
   "cell_type": "code",
   "execution_count": 2,
   "metadata": {
    "collapsed": false
   },
   "outputs": [
    {
     "data": {
      "text/plain": [
       "'GGGCCAAACTAGAGGCCATCTCTAATCCCCTCATACCCCTAAGCCATTGT'"
      ]
     },
     "execution_count": 2,
     "metadata": {},
     "output_type": "execute_result"
    }
   ],
   "source": [
    "ancestor = ''.join(random.choice(BASES) for _ in range(50))\n",
    "ancestor"
   ]
  }
 ],
 "metadata": {
  "kernelspec": {
   "display_name": "Python 3",
   "language": "python",
   "name": "python3"
  },
  "language_info": {
   "codemirror_mode": {
    "name": "ipython",
    "version": 3
   },
   "file_extension": ".py",
   "mimetype": "text/x-python",
   "name": "python",
   "nbconvert_exporter": "python",
   "pygments_lexer": "ipython3",
   "version": "3.4.3"
  }
 },
 "nbformat": 4,
 "nbformat_minor": 0
}
