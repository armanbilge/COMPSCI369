{
 "cells": [
  {
   "cell_type": "code",
   "execution_count": null,
   "metadata": {
    "collapsed": true
   },
   "outputs": [],
   "source": [
    "import itertools as it\n",
    "import numpy as np\n",
    "from numpy import random as random\n",
    "\n",
    "BASES = ['A', 'C', 'G', 'T']"
   ]
  },
  {
   "cell_type": "markdown",
   "metadata": {},
   "source": [
    "# Question 1"
   ]
  },
  {
   "cell_type": "code",
   "execution_count": null,
   "metadata": {
    "collapsed": false
   },
   "outputs": [],
   "source": [
    "L = 50\n",
    "mu = 0.01\n",
    "t = 10"
   ]
  },
  {
   "cell_type": "markdown",
   "metadata": {},
   "source": [
    "We draw $n$ bases from the discrete uniform distribution on $\\{A, C, G, T\\}$ to get the ancestral sequence."
   ]
  },
  {
   "cell_type": "code",
   "execution_count": null,
   "metadata": {
    "collapsed": false
   },
   "outputs": [],
   "source": [
    "def random_sequence(L):\n",
    "    return ''.join(random.choice(BASES, L))\n",
    "\n",
    "ancestor = random_sequence(L)\n",
    "ancestor"
   ]
  },
  {
   "cell_type": "code",
   "execution_count": null,
   "metadata": {
    "collapsed": true
   },
   "outputs": [],
   "source": [
    "def poisson_process(lambd):\n",
    "    t = 0\n",
    "    lambd = 1.0 / lambd\n",
    "    while True:\n",
    "        t += random.exponential(lambd)\n",
    "        yield t"
   ]
  },
  {
   "cell_type": "code",
   "execution_count": null,
   "metadata": {
    "collapsed": false
   },
   "outputs": [],
   "source": [
    "def evolve_sequence(s, mu, t):\n",
    "    s = [c for c in s]\n",
    "    L = len(s)\n",
    "    lambd = 0.75 * mu * L\n",
    "    for _ in it.takewhile(lambda x: x < t, poisson_process(lambd)):\n",
    "        i = random.randint(L)\n",
    "        s[i] = random.choice([b for b in BASES if b != s[i]])\n",
    "    return ''.join(s)"
   ]
  },
  {
   "cell_type": "markdown",
   "metadata": {},
   "source": [
    "The sequence for the first child is"
   ]
  },
  {
   "cell_type": "code",
   "execution_count": null,
   "metadata": {
    "collapsed": false
   },
   "outputs": [],
   "source": [
    "child1 = evolve_sequence(ancestor, mu, t)\n",
    "child1"
   ]
  },
  {
   "cell_type": "markdown",
   "metadata": {},
   "source": [
    "and the sequence for the second child is"
   ]
  },
  {
   "cell_type": "code",
   "execution_count": null,
   "metadata": {
    "collapsed": false
   },
   "outputs": [],
   "source": [
    "child2 = evolve_sequence(ancestor, mu, t)\n",
    "child2"
   ]
  },
  {
   "cell_type": "markdown",
   "metadata": {},
   "source": [
    "The number of differences between the ancestor and child 1, the ancestor and child2, and childs 1 and 2 are, respectively,"
   ]
  },
  {
   "cell_type": "code",
   "execution_count": null,
   "metadata": {
    "collapsed": true
   },
   "outputs": [],
   "source": [
    "def count_differences(x, y):\n",
    "    return sum(1 for a, b in zip(x, y) if a != b)\n",
    "count_differences(ancestor, child1),\\\n",
    "count_differences(ancestor, child2),\\\n",
    "count_differences(child1, child2)"
   ]
  },
  {
   "cell_type": "markdown",
   "metadata": {},
   "source": [
    "[TODO Explain expected number of mutations.]"
   ]
  },
  {
   "cell_type": "code",
   "execution_count": null,
   "metadata": {
    "collapsed": true
   },
   "outputs": [],
   "source": [
    "n = 1000\n",
    "L = 1000\n",
    "mu = 0.01\n",
    "t = 25\n",
    "d = [0] * n\n",
    "for i in range(n):\n",
    "    a = random_sequence(L)\n",
    "    c1 = evolve_sequence(a, mu, t)\n",
    "    c2 = evolve_sequence(a, mu, t)\n",
    "    d[i] = count_differences(c1, c2)"
   ]
  },
  {
   "cell_type": "markdown",
   "metadata": {},
   "source": [
    "The mean number of differing sites is"
   ]
  },
  {
   "cell_type": "code",
   "execution_count": null,
   "metadata": {
    "collapsed": true
   },
   "outputs": [],
   "source": [
    "np.mean(d)"
   ]
  },
  {
   "cell_type": "markdown",
   "metadata": {},
   "source": [
    "and its variance is"
   ]
  },
  {
   "cell_type": "code",
   "execution_count": null,
   "metadata": {
    "collapsed": true
   },
   "outputs": [],
   "source": [
    "np.var(d)"
   ]
  }
 ],
 "metadata": {
  "kernelspec": {
   "display_name": "Python 3",
   "language": "python",
   "name": "python3"
  },
  "language_info": {
   "codemirror_mode": {
    "name": "ipython",
    "version": 3
   },
   "file_extension": ".py",
   "mimetype": "text/x-python",
   "name": "python",
   "nbconvert_exporter": "python",
   "pygments_lexer": "ipython3",
   "version": "3.4.3"
  }
 },
 "nbformat": 4,
 "nbformat_minor": 0
}
