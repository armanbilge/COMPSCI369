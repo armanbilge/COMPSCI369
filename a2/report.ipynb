{
 "cells": [
  {
   "cell_type": "code",
   "execution_count": null,
   "metadata": {
    "collapsed": true
   },
   "outputs": [],
   "source": [
    "import itertools as it\n",
    "import numpy as np\n",
    "from numpy import random as random\n",
    "\n",
    "BASES = ['A', 'C', 'G', 'T']"
   ]
  },
  {
   "cell_type": "markdown",
   "metadata": {},
   "source": [
    "# Question 1"
   ]
  },
  {
   "cell_type": "code",
   "execution_count": null,
   "metadata": {
    "collapsed": false
   },
   "outputs": [],
   "source": [
    "L = 50\n",
    "mu = 0.01\n",
    "t = 10"
   ]
  },
  {
   "cell_type": "markdown",
   "metadata": {},
   "source": [
    "We draw $n$ bases from the discrete uniform distribution on $\\{A, C, G, T\\}$ to get the ancestral sequence."
   ]
  },
  {
   "cell_type": "code",
   "execution_count": null,
   "metadata": {
    "collapsed": false
   },
   "outputs": [],
   "source": [
    "def random_sequence(L):\n",
    "    return ''.join(random.choice(BASES, L))\n",
    "\n",
    "A = random_sequence(L)\n",
    "A"
   ]
  },
  {
   "cell_type": "code",
   "execution_count": null,
   "metadata": {
    "collapsed": true
   },
   "outputs": [],
   "source": [
    "def poisson_process(lambd):\n",
    "    t = 0\n",
    "    lambd = 1.0 / lambd\n",
    "    while True:\n",
    "        t += random.exponential(lambd)\n",
    "        yield t"
   ]
  },
  {
   "cell_type": "code",
   "execution_count": null,
   "metadata": {
    "collapsed": false
   },
   "outputs": [],
   "source": [
    "def evolve_sequence(s, mu, t):\n",
    "    s = [c for c in s]\n",
    "    L = len(s)\n",
    "    lambd = 3/4 * mu * L\n",
    "    for _ in it.takewhile(lambda x: x < t, poisson_process(lambd)):\n",
    "        i = random.randint(L)\n",
    "        s[i] = random.choice([b for b in BASES if b != s[i]])\n",
    "    return ''.join(s)"
   ]
  },
  {
   "cell_type": "markdown",
   "metadata": {},
   "source": [
    "The sequence for the first child is"
   ]
  },
  {
   "cell_type": "code",
   "execution_count": null,
   "metadata": {
    "collapsed": false
   },
   "outputs": [],
   "source": [
    "B = evolve_sequence(A, mu, t)\n",
    "B"
   ]
  },
  {
   "cell_type": "markdown",
   "metadata": {},
   "source": [
    "and the sequence for the second child is"
   ]
  },
  {
   "cell_type": "code",
   "execution_count": null,
   "metadata": {
    "collapsed": false
   },
   "outputs": [],
   "source": [
    "C = evolve_sequence(A, mu, t)\n",
    "C"
   ]
  },
  {
   "cell_type": "markdown",
   "metadata": {},
   "source": [
    "The number of differences between the ancestor and child 1, the ancestor and child2, and childs 1 and 2 are, respectively,"
   ]
  },
  {
   "cell_type": "code",
   "execution_count": null,
   "metadata": {
    "collapsed": true
   },
   "outputs": [],
   "source": [
    "def count_differences(x, y):\n",
    "    return sum(1 for a, b in zip(x, y) if a != b)\n",
    "count_differences(A, B), count_differences(A, C), count_differences(B, C)"
   ]
  },
  {
   "cell_type": "markdown",
   "metadata": {},
   "source": [
    "[TODO Explain expected number of mutations.]"
   ]
  },
  {
   "cell_type": "code",
   "execution_count": null,
   "metadata": {
    "collapsed": true
   },
   "outputs": [],
   "source": [
    "n = 1000\n",
    "L = 1000\n",
    "mu = 0.01\n",
    "t = 25\n",
    "d = [0] * n\n",
    "for i in range(n):\n",
    "    A = random_sequence(L)\n",
    "    B = evolve_sequence(A, mu, t)\n",
    "    C = evolve_sequence(A, mu, t)\n",
    "    d[i] = count_differences(B, C)"
   ]
  },
  {
   "cell_type": "markdown",
   "metadata": {},
   "source": [
    "The mean number of differing sites is"
   ]
  },
  {
   "cell_type": "code",
   "execution_count": null,
   "metadata": {
    "collapsed": true
   },
   "outputs": [],
   "source": [
    "np.mean(d)"
   ]
  },
  {
   "cell_type": "markdown",
   "metadata": {},
   "source": [
    "and its variance is"
   ]
  },
  {
   "cell_type": "code",
   "execution_count": null,
   "metadata": {
    "collapsed": true
   },
   "outputs": [],
   "source": [
    "np.var(d)"
   ]
  },
  {
   "cell_type": "code",
   "execution_count": null,
   "metadata": {
    "collapsed": true
   },
   "outputs": [],
   "source": [
    "L = 10000\n",
    "mu = 0.03\n",
    "t = 10\n",
    "A = random_sequence(L)\n",
    "B = evolve_sequence(A, mu, t)\n",
    "C = evolve_sequence(A, mu, t)\n",
    "empirical_p = {}\n",
    "theoretical_p = {}\n",
    "for a,b in it.product(BASES, repeat=2):\n",
    "    empirical_p[(a,b)] = sum(1 for x,y in zip(B,C) if (a,b) == (x,y)) / L / (1/4)\n",
    "    theoretical_p[(a,b)] = 1/4 + (3/4 if a == b else -1/4) * np.exp(-2 * t * mu)"
   ]
  },
  {
   "cell_type": "markdown",
   "metadata": {},
   "source": [
    "The empirical $p_{ab}$ values are"
   ]
  },
  {
   "cell_type": "code",
   "execution_count": null,
   "metadata": {
    "collapsed": true
   },
   "outputs": [],
   "source": [
    "empirical_p"
   ]
  },
  {
   "cell_type": "markdown",
   "metadata": {},
   "source": [
    "The theoretical $p_{ab}$ values are"
   ]
  },
  {
   "cell_type": "code",
   "execution_count": null,
   "metadata": {
    "collapsed": true
   },
   "outputs": [],
   "source": [
    "theoretical_p"
   ]
  }
 ],
 "metadata": {
  "kernelspec": {
   "display_name": "Python 3",
   "language": "python",
   "name": "python3"
  },
  "language_info": {
   "codemirror_mode": {
    "name": "ipython",
    "version": 3
   },
   "file_extension": ".py",
   "mimetype": "text/x-python",
   "name": "python",
   "nbconvert_exporter": "python",
   "pygments_lexer": "ipython3",
   "version": "3.4.3"
  }
 },
 "nbformat": 4,
 "nbformat_minor": 0
}
