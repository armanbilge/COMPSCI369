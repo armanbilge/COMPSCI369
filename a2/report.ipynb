{
 "cells": [
  {
   "cell_type": "code",
   "execution_count": null,
   "metadata": {
    "collapsed": true
   },
   "outputs": [],
   "source": [
    "import itertools as it\n",
    "import numpy as np\n",
    "from numpy import random\n",
    "\n",
    "BASES = ['A', 'C', 'G', 'T']\n",
    "GAP = '-'"
   ]
  },
  {
   "cell_type": "markdown",
   "metadata": {},
   "source": [
    "# Question 1"
   ]
  },
  {
   "cell_type": "markdown",
   "metadata": {},
   "source": [
    "We draw $L$ bases from the discrete uniform distribution on $\\{A, C, G, T\\}$ to get the ancestral sequence."
   ]
  },
  {
   "cell_type": "code",
   "execution_count": null,
   "metadata": {
    "collapsed": false
   },
   "outputs": [],
   "source": [
    "def random_sequence(L):\n",
    "    return ''.join(random.choice(BASES, L))"
   ]
  },
  {
   "cell_type": "markdown",
   "metadata": {},
   "source": [
    "To simulate the evolution of a sequence $S$ with per-site mutation rate $\\mu$, let $\\lambda = L\\frac{3}{4}\\mu$ be the rate of observable  mutations (i.e., base $x$ to $y$ where $x \\neq y$) across the entire sequence. We draw the number of mutations over time $t$ from a Poisson distribution with parameter $t \\lambda$. For each mutation, we select the affected site uniformly at random and change it to one of the three other bases, selected uniformly at random."
   ]
  },
  {
   "cell_type": "code",
   "execution_count": null,
   "metadata": {
    "collapsed": true
   },
   "outputs": [],
   "source": [
    "def evolve_sequence(S, mu, t):\n",
    "    S = list(S) # Strings are immutable so use list of chars\n",
    "    L = len(S)\n",
    "    lambd = L * 3/4 * mu\n",
    "    for _ in range(random.poisson(t * lambd)):\n",
    "        i = random.randint(L)\n",
    "        S[i] = random.choice([b for b in BASES if b != S[i]])\n",
    "    return ''.join(S) # Back to string"
   ]
  },
  {
   "cell_type": "markdown",
   "metadata": {},
   "source": [
    "Finally, to simulate a pair of \"sibling\" sequences that have diverged from a common ancestor $t$ time units ago, first we draw an ancestral sequence $A$ and then simulate two independent evolutionary processes starting with $A$ and generating $B$ and $C$."
   ]
  },
  {
   "cell_type": "code",
   "execution_count": null,
   "metadata": {
    "collapsed": false
   },
   "outputs": [],
   "source": [
    "def simulate_siblings(L, mu, t):\n",
    "    A = random_sequence(L)\n",
    "    B = evolve_sequence(A, mu, t)\n",
    "    C = evolve_sequence(A, mu, t)\n",
    "    return A, B, C"
   ]
  },
  {
   "cell_type": "markdown",
   "metadata": {},
   "source": [
    "Here, we simulate a pair of sequences with length $L = 50$ and mutation rate $\\mu = 0.01$ for $t = 10$ time units."
   ]
  },
  {
   "cell_type": "code",
   "execution_count": null,
   "metadata": {
    "collapsed": false
   },
   "outputs": [],
   "source": [
    "L = 50\n",
    "mu = 0.01\n",
    "t = 10\n",
    "A, B, C = simulate_siblings(L, mu, t)"
   ]
  },
  {
   "cell_type": "raw",
   "metadata": {},
   "source": [
    "The ancestral sequence is"
   ]
  },
  {
   "cell_type": "code",
   "execution_count": null,
   "metadata": {
    "collapsed": false
   },
   "outputs": [],
   "source": [
    "A"
   ]
  },
  {
   "cell_type": "markdown",
   "metadata": {},
   "source": [
    "The sequence for the first child is"
   ]
  },
  {
   "cell_type": "code",
   "execution_count": null,
   "metadata": {
    "collapsed": false
   },
   "outputs": [],
   "source": [
    "B"
   ]
  },
  {
   "cell_type": "markdown",
   "metadata": {},
   "source": [
    "and the sequence for the second child is"
   ]
  },
  {
   "cell_type": "code",
   "execution_count": null,
   "metadata": {
    "collapsed": false
   },
   "outputs": [],
   "source": [
    "C"
   ]
  },
  {
   "cell_type": "markdown",
   "metadata": {},
   "source": [
    "The number of differences between the ancestor and child 1, the ancestor and child 2, and children 1 and 2 are, respectively,"
   ]
  },
  {
   "cell_type": "code",
   "execution_count": null,
   "metadata": {
    "collapsed": false
   },
   "outputs": [],
   "source": [
    "def count_differences(A, B):\n",
    "    return sum(1 for x, y in zip(A, B) if x != y)\n",
    "count_differences(A, B), count_differences(A, C), count_differences(B, C)"
   ]
  },
  {
   "cell_type": "markdown",
   "metadata": {},
   "source": [
    "The mean, or expected value, of the Poisson distribution is equal to its parameter. Furthermore, the sum of independent Poisson variables is also Poisson distributed by the sum of their parameters. Therefore, the expected number of mutations for a single evolutionary process is $t\\lambda = tL\\frac{3}{4}\\mu$ and thus the expected number of mutations between two sibling sequences is $2tL\\frac{3}{4}\\mu$."
   ]
  },
  {
   "cell_type": "markdown",
   "metadata": {},
   "source": [
    "Here, we simulate $n = 1000$ pairs of sequences with length $L = 1000$ and mutation rate $\\mu = 0.01$ for $t = 25$ time units and count the number of sites at which they differ."
   ]
  },
  {
   "cell_type": "code",
   "execution_count": 23,
   "metadata": {
    "collapsed": true
   },
   "outputs": [],
   "source": [
    "n = 100\n",
    "L = 100000\n",
    "mu = 0.0001\n",
    "t = 25\n",
    "d = [0] * n\n",
    "for i in range(n):\n",
    "    _, B, C = simulate_siblings(L, mu, t)\n",
    "    d[i] = count_differences(B, C)"
   ]
  },
  {
   "cell_type": "markdown",
   "metadata": {},
   "source": [
    "The mean number of differing sites is"
   ]
  },
  {
   "cell_type": "code",
   "execution_count": null,
   "metadata": {
    "collapsed": false
   },
   "outputs": [],
   "source": [
    "np.mean(d)"
   ]
  },
  {
   "cell_type": "markdown",
   "metadata": {},
   "source": [
    "and its variance is"
   ]
  },
  {
   "cell_type": "code",
   "execution_count": null,
   "metadata": {
    "collapsed": false
   },
   "outputs": [],
   "source": [
    "np.var(d)"
   ]
  },
  {
   "cell_type": "markdown",
   "metadata": {},
   "source": [
    "The number of differing sites is not Poisson distributed with parameter $2tL\\frac{3}{4}\\mu$ "
   ]
  },
  {
   "cell_type": "code",
   "execution_count": null,
   "metadata": {
    "collapsed": true
   },
   "outputs": [],
   "source": [
    "L = 10000\n",
    "mu = 0.03\n",
    "t = 10\n",
    "_, B, C = simulate_siblings(L, mu, t)\n",
    "empirical_p = {}\n",
    "theoretical_p = {}\n",
    "for a,b in it.product(BASES, repeat=2):\n",
    "    empirical_p[(a,b)] = sum(1 for x, y in zip(B,C) if (a, b) == (x, y)) / (L / 4)\n",
    "    theoretical_p[(a,b)] = 1/4 + (3/4 if a == b else -1/4) * np.exp(-2 * t * mu)"
   ]
  },
  {
   "cell_type": "markdown",
   "metadata": {},
   "source": [
    "The empirical $p_{ab}$ values are"
   ]
  },
  {
   "cell_type": "code",
   "execution_count": null,
   "metadata": {
    "collapsed": false
   },
   "outputs": [],
   "source": [
    "empirical_p"
   ]
  },
  {
   "cell_type": "markdown",
   "metadata": {},
   "source": [
    "The theoretical $p_{ab}$ values are"
   ]
  },
  {
   "cell_type": "code",
   "execution_count": null,
   "metadata": {
    "collapsed": false
   },
   "outputs": [],
   "source": [
    "theoretical_p"
   ]
  },
  {
   "cell_type": "markdown",
   "metadata": {},
   "source": [
    "# Question 2"
   ]
  },
  {
   "cell_type": "code",
   "execution_count": null,
   "metadata": {
    "collapsed": true
   },
   "outputs": [],
   "source": [
    "# TODO Needs major debugging\n",
    "def simulate_siblings_indel(L, mu, t):\n",
    "    A, B, C = map(list, simulate_siblings(L, mu, t))\n",
    "    for X,Y in it.permutations([B, C]):\n",
    "        lambd = L * t * mu / 10\n",
    "        h_I = random.poisson(lambd)\n",
    "        h_D = random.poisson(lambd)\n",
    "        for _ in range(h_I):\n",
    "            i = random.randint(len(X)) + 1\n",
    "            A[i:i] = [GAP] * 3\n",
    "            X[i:i] = list(random_sequence(3))\n",
    "            Y[i:i] = [GAP] * 3\n",
    "        for _ in range(h_D):\n",
    "            # TODO incorrect\n",
    "            i = random.randint(len(X)) + 1\n",
    "            j = min(i+3, len(X))\n",
    "            X[i:j] = [GAP] * (i - j)\n",
    "    A, B, C = map(lambda x: ''.join(x), [A, B, C])\n",
    "    return A, B, C"
   ]
  },
  {
   "cell_type": "code",
   "execution_count": null,
   "metadata": {
    "collapsed": false
   },
   "outputs": [],
   "source": [
    "_, B, C = simulate_siblings_indel(50, 0.01, 20)\n",
    "print(B)\n",
    "print(C)"
   ]
  },
  {
   "cell_type": "markdown",
   "metadata": {},
   "source": [
    "# Question 3"
   ]
  },
  {
   "cell_type": "code",
   "execution_count": null,
   "metadata": {
    "collapsed": true
   },
   "outputs": [],
   "source": [
    "def align_overlap(A, B, S, d):\n",
    "    \n",
    "    # Initialise F matrix with zeros\n",
    "    F = [[0] * (len(B)+1) for _ in range(len(A)+1)]\n",
    "    \n",
    "    # Fill F matrix by global recurrence relation\n",
    "    for i in range(len(A)):\n",
    "        for j in range(len(B)):\n",
    "            match = F[i][j] + S[A[i]][B[j]]\n",
    "            delete = F[i][j+1] + d\n",
    "            insert = F[i+1][j] + d\n",
    "            F[i+1][j+1] = max(match, delete, insert)\n",
    "    \n",
    "    # Iterator over boundary indices\n",
    "    boundary = it.chain(((i,len(B)-1) for i in range(len(A))),\n",
    "                        ((len(A)-1,j) for j in range(len(B))))\n",
    "    \n",
    "    # Find index for boundary entry with greatest score\n",
    "    i, j = max(boundary, key=lambda ij: F[ij[0]][ij[1]])\n",
    "    \n",
    "    # Append non-overlapping sequence or gaps\n",
    "    alignment_A = A[i+1:] if i+1 < len(A) else '-' * (len(B) - j - 1)\n",
    "    alignment_B = B[j+1:] if j+1 < len(B) else '-' * (len(A) - i - 1)\n",
    "    \n",
    "    # Backtrack to form alignment for overlapping region\n",
    "    while i >= 0 and j >= 0:\n",
    "        if i >= 0 and j >= 0 and F[i+1][j+1] == F[i][j] + S[A[i]][B[j]]:\n",
    "            alignment_A = A[i] + alignment_A\n",
    "            alignment_B = B[j] + alignment_B\n",
    "            i -= 1\n",
    "            j -= 1\n",
    "        elif i >= 0 and F[i+1][j+1] == F[i][j+1] + d:\n",
    "            alignment_A = A[i] + alignment_A\n",
    "            alignment_B = GAP + alignment_B\n",
    "            i -= 1\n",
    "        elif j >= 0 and F[i+1][j+1] == F[i+1][j] + d:\n",
    "            alignment_A = GAP + alignment_A\n",
    "            alignment_B = B[j] + alignment_B\n",
    "            j -= 1\n",
    "        else: # Helpful for debugging\n",
    "            raise Exception()\n",
    "    \n",
    "    # Append non-overlapping sequence or gaps\n",
    "    alignment_A = (A[:i] if i > 0 else '-' * j) + alignment_A\n",
    "    alignment_B = (B[:j] if j > 0 else '-' * i) + alignment_B\n",
    "    \n",
    "    return alignment_A, alignment_B"
   ]
  },
  {
   "cell_type": "code",
   "execution_count": null,
   "metadata": {
    "collapsed": true
   },
   "outputs": [],
   "source": [
    "S = {x: {y: 2 if x == y else -2 for y in BASES} for x in BASES}\n",
    "d = -3\n",
    "Bp = B.replace(GAP, '')[:35]\n",
    "Cp = C.replace(GAP, '')[-35:]"
   ]
  },
  {
   "cell_type": "code",
   "execution_count": null,
   "metadata": {
    "collapsed": false
   },
   "outputs": [],
   "source": [
    "Ba, Ca = align_overlap(Bp, Cp, S, d)\n",
    "print(Ba)\n",
    "print(Ca)"
   ]
  },
  {
   "cell_type": "code",
   "execution_count": null,
   "metadata": {
    "collapsed": false
   },
   "outputs": [],
   "source": [
    "for d in range(-4, 0):\n",
    "    Ba, Ca = align_overlap(Bp, Cp, S, d)\n",
    "    print('d = {}'.format(d))\n",
    "    print(Ba)\n",
    "    print(Ca)\n",
    "    print()"
   ]
  }
 ],
 "metadata": {
  "kernelspec": {
   "display_name": "Python 3",
   "language": "python",
   "name": "python3"
  },
  "language_info": {
   "codemirror_mode": {
    "name": "ipython",
    "version": 3
   },
   "file_extension": ".py",
   "mimetype": "text/x-python",
   "name": "python",
   "nbconvert_exporter": "python",
   "pygments_lexer": "ipython3",
   "version": "3.4.3"
  }
 },
 "nbformat": 4,
 "nbformat_minor": 0
}
